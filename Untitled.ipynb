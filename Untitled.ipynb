{
 "cells": [
  {
   "cell_type": "code",
   "execution_count": null,
   "metadata": {},
   "outputs": [],
   "source": [
    "import pandas as pd\n",
    "import numpy as np"
   ]
  },
  {
   "cell_type": "code",
   "execution_count": null,
   "metadata": {},
   "outputs": [],
   "source": [
    "lat_lon_file = pd.read_csv(\"data/world_lat_lon.csv\")\n",
    "\n",
    "geo_df = pd.DataFrame(lat_lon_file)\n",
    "geo_df.head()"
   ]
  },
  {
   "cell_type": "code",
   "execution_count": null,
   "metadata": {},
   "outputs": [],
   "source": [
    "geo_df = geo_df.rename(columns={\"country\":\"Country\", \"latitude\":\"Latitude\", \"longitude\":\"Longitude\"})\n",
    "\n",
    "geo_df = geo_df.drop(columns=[\"country_code\",\"usa_state_code\",\"usa_state_latitude\",\"usa_state_longitude\",\"usa_state\"])\n",
    "\n",
    "geo_df = geo_df[[\"Country\",\"Latitude\",\"Longitude\"]]\n",
    "geo_df.head()"
   ]
  },
  {
   "cell_type": "code",
   "execution_count": null,
   "metadata": {},
   "outputs": [],
   "source": [
    "# nuke data\n",
    "\n",
    "nuke_file = pd.read_csv(\"data/nuke_number.csv\")\n",
    "\n",
    "nuke_df = pd.DataFrame(nuke_file) \n",
    "\n",
    "nuke_df = nuke_df.rename(columns={\"Entity\":\"Country\"})\n",
    "\n",
    "\n",
    "nuke_df.head()"
   ]
  },
  {
   "cell_type": "code",
   "execution_count": null,
   "metadata": {},
   "outputs": [],
   "source": [
    "merge_geo_df = pd.merge(nuke_df,geo_df, on='Country', suffixes=(\"_nuke\",\"_geo\"))\n",
    "merge_geo_df.head()\n"
   ]
  },
  {
   "cell_type": "code",
   "execution_count": null,
   "metadata": {},
   "outputs": [],
   "source": [
    "# GDP data\n",
    "\n",
    "gdp_file = pd.read_csv(\"data/GDP_Data_per_Country.csv\")\n",
    "\n",
    "gdp_df = pd.DataFrame(gdp_file)\n",
    "\n",
    "gdp_df = gdp_df.rename(columns={\"country\":\"Country\", \"series\":\"Series\", \"Date\":\"Year\"})\n",
    "\n",
    "gdp_df[\"Country\"] = gdp_df[\"Country\"].replace({\"Russian Federation\":\"Russia\"})\n",
    "\n",
    "gdp_df = gdp_df.drop(columns=[\"Series\", \"Unit\"])\n",
    "\n",
    "gdp_df.head()"
   ]
  },
  {
   "cell_type": "code",
   "execution_count": null,
   "metadata": {},
   "outputs": [],
   "source": [
    "# country_year\n",
    "merge_geo_df[\"Country_Year\"] = merge_geo_df[\"Country\"] + \" \" + merge_geo_df[\"Year\"].astype(str)\n",
    "\n",
    "gdp_df[\"Country_Year\"] = gdp_df[\"Country\"] + \" \" + gdp_df[\"Year\"].astype(str)"
   ]
  },
  {
   "cell_type": "code",
   "execution_count": null,
   "metadata": {},
   "outputs": [],
   "source": []
  }
 ],
 "metadata": {
  "kernelspec": {
   "display_name": "Python 3",
   "language": "python",
   "name": "python3"
  },
  "language_info": {
   "codemirror_mode": {
    "name": "ipython",
    "version": 3
   },
   "file_extension": ".py",
   "mimetype": "text/x-python",
   "name": "python",
   "nbconvert_exporter": "python",
   "pygments_lexer": "ipython3",
   "version": "3.6.10"
  }
 },
 "nbformat": 4,
 "nbformat_minor": 4
}
