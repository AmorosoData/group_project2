{
 "cells": [
  {
   "cell_type": "code",
   "execution_count": 1,
   "metadata": {},
   "outputs": [
    {
     "ename": "KeyboardInterrupt",
     "evalue": "",
     "output_type": "error",
     "traceback": [
      "\u001b[1;31m---------------------------------------------------------------------------\u001b[0m",
      "\u001b[1;31mFileNotFoundError\u001b[0m                         Traceback (most recent call last)",
      "\u001b[1;32mC:\\Users\\Anaconda\\lib\\importlib\\_bootstrap_external.py\u001b[0m in \u001b[0;36m_path_is_mode_type\u001b[1;34m(path, mode)\u001b[0m\n",
      "\u001b[1;32mC:\\Users\\Anaconda\\lib\\importlib\\_bootstrap_external.py\u001b[0m in \u001b[0;36m_path_stat\u001b[1;34m(path)\u001b[0m\n",
      "\u001b[1;31mFileNotFoundError\u001b[0m: [WinError 2] The system cannot find the file specified: 'C:\\\\Users\\\\Anaconda\\\\lib\\\\site-packages\\\\pandas\\\\api\\\\extensions\\\\__init__.cp37-win_amd64.pyd'",
      "\nDuring handling of the above exception, another exception occurred:\n",
      "\u001b[1;31mKeyboardInterrupt\u001b[0m                         Traceback (most recent call last)",
      "\u001b[1;32m<ipython-input-1-b130097b2f52>\u001b[0m in \u001b[0;36m<module>\u001b[1;34m\u001b[0m\n\u001b[0;32m      1\u001b[0m \u001b[1;31m# dependencies\u001b[0m\u001b[1;33m\u001b[0m\u001b[1;33m\u001b[0m\u001b[1;33m\u001b[0m\u001b[0m\n\u001b[1;32m----> 2\u001b[1;33m \u001b[1;32mimport\u001b[0m \u001b[0mpandas\u001b[0m \u001b[1;32mas\u001b[0m \u001b[0mpd\u001b[0m\u001b[1;33m\u001b[0m\u001b[1;33m\u001b[0m\u001b[0m\n\u001b[0m\u001b[0;32m      3\u001b[0m \u001b[1;32mimport\u001b[0m \u001b[0mnumpy\u001b[0m \u001b[1;32mas\u001b[0m \u001b[0mnp\u001b[0m\u001b[1;33m\u001b[0m\u001b[1;33m\u001b[0m\u001b[0m\n\u001b[0;32m      4\u001b[0m \u001b[1;32mimport\u001b[0m \u001b[0mpymongo\u001b[0m\u001b[1;33m\u001b[0m\u001b[1;33m\u001b[0m\u001b[0m\n\u001b[0;32m      5\u001b[0m \u001b[1;32mfrom\u001b[0m \u001b[0mpymongo\u001b[0m \u001b[1;32mimport\u001b[0m \u001b[0mMongoClient\u001b[0m\u001b[1;33m\u001b[0m\u001b[1;33m\u001b[0m\u001b[0m\n",
      "\u001b[1;32mC:\\Users\\Anaconda\\lib\\site-packages\\pandas\\__init__.py\u001b[0m in \u001b[0;36m<module>\u001b[1;34m\u001b[0m\n\u001b[0;32m    139\u001b[0m )\n\u001b[0;32m    140\u001b[0m \u001b[1;33m\u001b[0m\u001b[0m\n\u001b[1;32m--> 141\u001b[1;33m \u001b[1;32mimport\u001b[0m \u001b[0mpandas\u001b[0m\u001b[1;33m.\u001b[0m\u001b[0mapi\u001b[0m\u001b[1;33m\u001b[0m\u001b[1;33m\u001b[0m\u001b[0m\n\u001b[0m\u001b[0;32m    142\u001b[0m \u001b[1;32mfrom\u001b[0m \u001b[0mpandas\u001b[0m\u001b[1;33m.\u001b[0m\u001b[0mutil\u001b[0m\u001b[1;33m.\u001b[0m\u001b[0m_print_versions\u001b[0m \u001b[1;32mimport\u001b[0m \u001b[0mshow_versions\u001b[0m\u001b[1;33m\u001b[0m\u001b[1;33m\u001b[0m\u001b[0m\n\u001b[0;32m    143\u001b[0m \u001b[1;33m\u001b[0m\u001b[0m\n",
      "\u001b[1;32mC:\\Users\\Anaconda\\lib\\site-packages\\pandas\\api\\__init__.py\u001b[0m in \u001b[0;36m<module>\u001b[1;34m\u001b[0m\n\u001b[0;32m      1\u001b[0m \u001b[1;34m\"\"\" public toolkit API \"\"\"\u001b[0m\u001b[1;33m\u001b[0m\u001b[1;33m\u001b[0m\u001b[0m\n\u001b[1;32m----> 2\u001b[1;33m \u001b[1;32mfrom\u001b[0m \u001b[0mpandas\u001b[0m\u001b[1;33m.\u001b[0m\u001b[0mapi\u001b[0m \u001b[1;32mimport\u001b[0m \u001b[0mextensions\u001b[0m\u001b[1;33m,\u001b[0m \u001b[0mindexers\u001b[0m\u001b[1;33m,\u001b[0m \u001b[0mtypes\u001b[0m  \u001b[1;31m# noqa\u001b[0m\u001b[1;33m\u001b[0m\u001b[1;33m\u001b[0m\u001b[0m\n\u001b[0m",
      "\u001b[1;32mC:\\Users\\Anaconda\\lib\\importlib\\_bootstrap.py\u001b[0m in \u001b[0;36m_find_and_load\u001b[1;34m(name, import_)\u001b[0m\n",
      "\u001b[1;32mC:\\Users\\Anaconda\\lib\\importlib\\_bootstrap.py\u001b[0m in \u001b[0;36m_find_and_load_unlocked\u001b[1;34m(name, import_)\u001b[0m\n",
      "\u001b[1;32mC:\\Users\\Anaconda\\lib\\importlib\\_bootstrap.py\u001b[0m in \u001b[0;36m_find_spec\u001b[1;34m(name, path, target)\u001b[0m\n",
      "\u001b[1;32mC:\\Users\\Anaconda\\lib\\importlib\\_bootstrap_external.py\u001b[0m in \u001b[0;36mfind_spec\u001b[1;34m(cls, fullname, path, target)\u001b[0m\n",
      "\u001b[1;32mC:\\Users\\Anaconda\\lib\\importlib\\_bootstrap_external.py\u001b[0m in \u001b[0;36m_get_spec\u001b[1;34m(cls, fullname, path, target)\u001b[0m\n",
      "\u001b[1;32mC:\\Users\\Anaconda\\lib\\importlib\\_bootstrap_external.py\u001b[0m in \u001b[0;36mfind_spec\u001b[1;34m(self, fullname, target)\u001b[0m\n",
      "\u001b[1;32mC:\\Users\\Anaconda\\lib\\importlib\\_bootstrap_external.py\u001b[0m in \u001b[0;36m_path_isfile\u001b[1;34m(path)\u001b[0m\n",
      "\u001b[1;32mC:\\Users\\Anaconda\\lib\\importlib\\_bootstrap_external.py\u001b[0m in \u001b[0;36m_path_is_mode_type\u001b[1;34m(path, mode)\u001b[0m\n",
      "\u001b[1;31mKeyboardInterrupt\u001b[0m: "
     ]
    }
   ],
   "source": [
    "# dependencies\n",
    "import pandas as pd\n",
    "import numpy as np\n",
    "import pymongo\n",
    "from pymongo import MongoClient"
   ]
  },
  {
   "cell_type": "code",
   "execution_count": null,
   "metadata": {},
   "outputs": [],
   "source": [
    "# import csvs\n",
    "\n",
    "# cleaned data\n",
    "\n",
    "nuke_file = pd.read_csv(\"data/cleaned_nuke.csv\")\n",
    "\n",
    "countries_file = pd.read_csv(\"data/countries.csv\")\n",
    "\n",
    "happy_file = pd.read_csv(\"data/suicide.csv\")\n",
    "\n",
    "d3_file = pd.read_csv(\"data/nuked3.csv\")\n",
    "\n",
    "log_file = pd.read_csv(\"data/log_nukes.csv\")"
   ]
  },
  {
   "cell_type": "code",
   "execution_count": null,
   "metadata": {},
   "outputs": [],
   "source": [
    "# import to data bases\n",
    "nuke_df = pd.DataFrame(nuke_file)\n",
    "\n",
    "countries_df = pd.DataFrame(countries_file)\n",
    "\n",
    "happy_df = pd.DataFrame(happy_file)\n",
    "\n",
    "d3_df = pd.DataFrame(d3_file)\n",
    "\n",
    "log_df = pd.DataFrame(log_file)\n",
    "\n",
    "log_df.head()"
   ]
  },
  {
   "cell_type": "code",
   "execution_count": null,
   "metadata": {},
   "outputs": [],
   "source": [
    "countries_df"
   ]
  },
  {
   "cell_type": "code",
   "execution_count": null,
   "metadata": {},
   "outputs": [],
   "source": [
    "happy_df"
   ]
  },
  {
   "cell_type": "code",
   "execution_count": null,
   "metadata": {},
   "outputs": [],
   "source": [
    "# drop country column in countries_df\n",
    "countries_df = countries_df.drop(columns=[\"country\"])\n",
    "\n",
    "# countries_df.head()"
   ]
  },
  {
   "cell_type": "code",
   "execution_count": null,
   "metadata": {},
   "outputs": [],
   "source": [
    "# renaming columns\n",
    "countries_df = countries_df.rename(columns={\"latitude\":\"Latitude\", \"longitude\":\"Longitude\", \"name\":\"Country\"})\n",
    "countries_df.head()"
   ]
  },
  {
   "cell_type": "code",
   "execution_count": null,
   "metadata": {},
   "outputs": [],
   "source": [
    "merge_ltlng = pd.merge(nuke_df, countries_df, on='Country')\n",
    "\n",
    "merge_ltlng.head()"
   ]
  },
  {
   "cell_type": "code",
   "execution_count": null,
   "metadata": {},
   "outputs": [],
   "source": [
    "# drop unnamed index from merge_ltlng\n",
    "\n",
    "lat_merged_df = merge_ltlng.drop(columns=[\"Unnamed: 0\"])\n",
    "\n",
    "lat_merged_df.head()"
   ]
  },
  {
   "cell_type": "code",
   "execution_count": null,
   "metadata": {},
   "outputs": [],
   "source": [
    "# renaming columns for ease with database\n",
    "lat_merged_df = lat_merged_df.rename(columns={\"Quantity of Nuclear Weapons\":\"Quantity_of_Nuclear_Weapons\",\n",
    "                                            \"GDP (Current LCU)\":\"GDP\"})\n",
    "lat_merged_df.head()\n"
   ]
  },
  {
   "cell_type": "code",
   "execution_count": null,
   "metadata": {},
   "outputs": [],
   "source": [
    "happy_df = happy_df.rename(columns={\"country-year\":\"Country_Year\"})\n",
    "happy_df[\"Country_Year\"].unique() \n",
    "\n"
   ]
  },
  {
   "cell_type": "code",
   "execution_count": null,
   "metadata": {},
   "outputs": [],
   "source": [
    "# exporting a csv to combine with happiness indicators\n",
    "# lat_merged_df.to_csv(\"data/nuke_coordinates_csv\", index=False)"
   ]
  },
  {
   "cell_type": "markdown",
   "metadata": {},
   "source": [
    "# Database Connection"
   ]
  },
  {
   "cell_type": "code",
   "execution_count": null,
   "metadata": {},
   "outputs": [],
   "source": [
    "#Define connection link an instantiate client\n",
    "conn = 'mongodb://localhost:27017'\n",
    "client = pymongo.MongoClient(conn)\n",
    "\n",
    "#Define the 'nukeDB' database in Mongo\n",
    "db = client.nukeDB\n",
    "\n",
    "#Declare the by_location collection\n",
    "by_location = db.by_location\n",
    "happyGeo = db.happyGeo\n",
    "d3_collection = db.d3_collection\n",
    "log_collection = db.log_collection"
   ]
  },
  {
   "cell_type": "code",
   "execution_count": null,
   "metadata": {},
   "outputs": [],
   "source": [
    "#Instantiate for loop for populating business collection\n",
    "for index, row in lat_merged_df.iterrows():\n",
    "    #Populate post dictionary with information to be inserted into business collection\n",
    "    post = {\n",
    "        \"Country_Year\": str(row[\"Country_Year\"]),\n",
    "        \"Country\": str(row[\"Country\"]),\n",
    "        \"Code\": str(row[\"Code\"]),\n",
    "        \"Year\": int(row[\"Year\"]),\n",
    "        \"Quantity_of_Nuclear_Weapons\": int(row[\"Quantity_of_Nuclear_Weapons\"]),\n",
    "        \"GDP\": float(row[\"GDP\"]),\n",
    "        \"Latitude\":float(row[\"Latitude\"]),\n",
    "        \"Longitude\":float(row[\"Longitude\"])\n",
    "    }\n",
    "    #Insert data into business collection, post{} by post{}\n",
    "    by_location.insert_one(post)"
   ]
  },
  {
   "cell_type": "code",
   "execution_count": null,
   "metadata": {},
   "outputs": [],
   "source": [
    "#Instantiate for loop for populating business collection\n",
    "for index, row in d3_df.iterrows():\n",
    "    #Populate post dictionary with information to be inserted into business collection\n",
    "    post = {\n",
    "        \"Country_Year\": str(row[\"Country_Year\"]),\n",
    "        \"Country\": str(row[\"Country\"]),\n",
    "        \"Code\": str(row[\"Code\"]),\n",
    "        \"Year\": int(row[\"Year\"]),\n",
    "        \"Nukes\": int(row[\"Nukes\"]),\n",
    "        \"gdp_dollar\": float(row[\"gdp_dollar\"]),\n",
    "        \"color\": str(row[\"color\"])\n",
    "    }\n",
    "    #Insert data into business collection, post{} by post{}\n",
    "    d3_collection.insert_one(post)"
   ]
  },
  {
   "cell_type": "code",
   "execution_count": null,
   "metadata": {},
   "outputs": [],
   "source": [
    "#Instantiate for loop for populating business collection\n",
    "for index, row in log_df.iterrows():\n",
    "    #Populate post dictionary with information to be inserted into business collection\n",
    "    post = {\n",
    "        \"Country_Year\": str(row[\"Country_Year\"]),\n",
    "        \"Country\": str(row[\"Country\"]),\n",
    "        \"Code\": str(row[\"Code\"]),\n",
    "        \"Year\": int(row[\"Year\"]),\n",
    "        \"Nukes\": int(row[\"Nukes\"]),\n",
    "        \"gdp_dollar\": float(row[\"gdp_dollar\"]),\n",
    "        \"color\": str(row[\"color\"]),\n",
    "        \"log_nukes\": float(row[\"log_nukes\"])\n",
    "    }\n",
    "    #Insert data into business collection, post{} by post{}\n",
    "    log_collection.insert_one(post)"
   ]
  },
  {
   "cell_type": "markdown",
   "metadata": {},
   "source": [
    "# Data to JSON For Visualizations"
   ]
  },
  {
   "cell_type": "code",
   "execution_count": null,
   "metadata": {},
   "outputs": [],
   "source": [
    "lat_merged_df.to_json(\"data/coordinates_json.json\")"
   ]
  },
  {
   "cell_type": "markdown",
   "metadata": {},
   "source": [
    "# Bring in Geo and Happy Data"
   ]
  },
  {
   "cell_type": "code",
   "execution_count": null,
   "metadata": {},
   "outputs": [],
   "source": [
    "lat_lon_file = pd.read_csv(\"data/world_lat_lon.csv\")\n",
    "\n",
    "geo_df = pd.DataFrame(lat_lon_file)\n",
    "geo_df.head()"
   ]
  },
  {
   "cell_type": "code",
   "execution_count": null,
   "metadata": {},
   "outputs": [],
   "source": [
    "geo_df = geo_df.rename(columns={\"country\":\"Country\", \"latitude\":\"Latitude\", \"longitude\":\"Longitude\"})\n",
    "clean_geo_df = geo_df.drop(columns=[\"country_code\",\"usa_state_code\",\"usa_state_latitude\",\"usa_state_longitude\",\"usa_state\"])\n",
    "clean_geo_df = clean_geo_df[[\"Country\",\"Latitude\",\"Longitude\"]]\n",
    "clean_geo_df.head()"
   ]
  },
  {
   "cell_type": "code",
   "execution_count": null,
   "metadata": {},
   "outputs": [],
   "source": [
    "happy_file = pd.read_csv(\"data/happy_2020.csv\")\n",
    "happyn_df = pd.DataFrame(happy_file)\n",
    "happyn_df = happyn_df.rename(columns={\"Country name\":\"Country\",\"Social support\":\"Social_support\",\"Healthy life expectancy\":\"Healthy_life_expectancy\",\"Freedom to make life choices\":\"Freedom_to_make_life_choices\",\"Perceptions of corruption\":\"Perceptions_of_corruption\"})\n",
    "happyn_df = happyn_df.drop(columns={\"Regional indicator\",\"Ladder score\",\"Logged GDP per capita\",\"Standard error of ladder score\",\"upperwhisker\",\"lowerwhisker\",\"Ladder score in Dystopia\",\"Explained by: Log GDP per capita\",\"Explained by: Social support\",\"Explained by: Healthy life expectancy\",\"Explained by: Freedom to make life choices\",\"Explained by: Generosity\",\"Explained by: Perceptions of corruption\",\"Dystopia + residual\"})\n",
    "happy_country_df = happyn_df.loc[happyn_df[\"Country\"].isin([\"China\",\"France\",\"India\",\"Israel\",\"Pakistan\",\"Russia\",\"United Kingdom\",\"United States\"])]\n",
    "happy_country_df"
   ]
  },
  {
   "cell_type": "code",
   "execution_count": null,
   "metadata": {},
   "outputs": [],
   "source": [
    "happy_geo_merge_df = pd.merge(clean_geo_df,happy_country_df, on=\"Country\", suffixes=(\"_geo\",\"_happy\"))\n",
    "happy_geo_merge_df[\"Healthy_life_expectancy\"] = happy_geo_merge_df[\"Healthy_life_expectancy\"].astype(float).map(\"{:,.2f}\".format)\n",
    "happy_geo_merge_df['Freedom_to_make_life_choices'] = pd.Series([\"{0:.2f}%\".format(val * 100) for val in happy_geo_merge_df['Freedom_to_make_life_choices']], index = happy_geo_merge_df.index)\n",
    "happy_geo_merge_df['Perceptions_of_corruption'] = pd.Series([\"{0:.2f}%\".format(val * 100) for val in happy_geo_merge_df['Perceptions_of_corruption']], index = happy_geo_merge_df.index)\n",
    "happy_geo_merge_df['Generosity'] = pd.Series([\"{0:.2f}%\".format(val * 100) for val in happy_geo_merge_df['Generosity']], index = happy_geo_merge_df.index)\n",
    "happy_geo_merge_df['Social_support'] = pd.Series([\"{0:.2f}%\".format(val * 100) for val in happy_geo_merge_df['Social_support']], index = happy_geo_merge_df.index)\n",
    "happy_geo_merge_df.head()"
   ]
  },
  {
   "cell_type": "code",
   "execution_count": null,
   "metadata": {},
   "outputs": [],
   "source": [
    "happy_geo_merge_df.to_csv(\"data/happy_geo.csv\", index=True)"
   ]
  },
  {
   "cell_type": "code",
   "execution_count": null,
   "metadata": {},
   "outputs": [],
   "source": [
    "#Instantiate for loop for populating business collection\n",
    "for index, row in happy_geo_merge_df.iterrows():\n",
    "    #Populate post dictionary with information to be inserted into business collection\n",
    "    post = {\n",
    "        \"Country\": str(row[\"Country\"]),\n",
    "        \"Latitude\": float(row[\"Latitude\"]),\n",
    "        \"Longitude\": float(row[\"Longitude\"]),\n",
    "        \"Healthy_life_expectancy\": str(row[\"Healthy_life_expectancy\"]),\n",
    "        \"Freedom_to_make_life_choices\": str(row[\"Freedom_to_make_life_choices\"]),\n",
    "        \"Generosity\": str(row[\"Generosity\"]),\n",
    "        \"Perceptions_of_corruption\": str(row[\"Perceptions_of_corruption\"])\n",
    "\n",
    "    }\n",
    "    #Insert data into business collection, post{} by post{}\n",
    "    happyGeo.insert_one(post)"
   ]
  },
  {
   "cell_type": "markdown",
   "metadata": {},
   "source": [
    "# HappyGeo data to JSON Visualization"
   ]
  },
  {
   "cell_type": "code",
   "execution_count": null,
   "metadata": {},
   "outputs": [],
   "source": [
    "happy_geo_merge_df.to_json(\"data/happy_json.json\")"
   ]
  },
  {
   "cell_type": "code",
   "execution_count": null,
   "metadata": {},
   "outputs": [],
   "source": []
  }
 ],
 "metadata": {
  "kernelspec": {
   "display_name": "Python 3",
   "language": "python",
   "name": "python3"
  },
  "language_info": {
   "codemirror_mode": {
    "name": "ipython",
    "version": 3
   },
   "file_extension": ".py",
   "mimetype": "text/x-python",
   "name": "python",
   "nbconvert_exporter": "python",
   "pygments_lexer": "ipython3",
   "version": "3.7.6"
  }
 },
 "nbformat": 4,
 "nbformat_minor": 4
}
