{
 "cells": [
  {
   "cell_type": "code",
   "execution_count": 1,
   "metadata": {},
   "outputs": [
    {
     "ename": "ModuleNotFoundError",
     "evalue": "No module named 'pymongo'",
     "output_type": "error",
     "traceback": [
      "\u001b[1;31m---------------------------------------------------------------------------\u001b[0m",
      "\u001b[1;31mModuleNotFoundError\u001b[0m                       Traceback (most recent call last)",
      "\u001b[1;32m<ipython-input-1-98288a750e70>\u001b[0m in \u001b[0;36m<module>\u001b[1;34m\u001b[0m\n\u001b[0;32m      2\u001b[0m \u001b[1;32mimport\u001b[0m \u001b[0mpandas\u001b[0m \u001b[1;32mas\u001b[0m \u001b[0mpd\u001b[0m\u001b[1;33m\u001b[0m\u001b[1;33m\u001b[0m\u001b[0m\n\u001b[0;32m      3\u001b[0m \u001b[1;32mimport\u001b[0m \u001b[0mnumpy\u001b[0m \u001b[1;32mas\u001b[0m \u001b[0mnp\u001b[0m\u001b[1;33m\u001b[0m\u001b[1;33m\u001b[0m\u001b[0m\n\u001b[1;32m----> 4\u001b[1;33m \u001b[1;32mimport\u001b[0m \u001b[0mpymongo\u001b[0m\u001b[1;33m\u001b[0m\u001b[1;33m\u001b[0m\u001b[0m\n\u001b[0m\u001b[0;32m      5\u001b[0m \u001b[1;32mfrom\u001b[0m \u001b[0mpymongo\u001b[0m \u001b[1;32mimport\u001b[0m \u001b[0mMongoClient\u001b[0m\u001b[1;33m\u001b[0m\u001b[1;33m\u001b[0m\u001b[0m\n",
      "\u001b[1;31mModuleNotFoundError\u001b[0m: No module named 'pymongo'"
     ]
    }
   ],
   "source": [
    "# import dependencies\n",
    "import pandas as pd\n",
    "import numpy as np\n",
    "import pymongo\n",
    "from pymongo import MongoClient"
   ]
  },
  {
   "cell_type": "code",
   "execution_count": 2,
   "metadata": {},
   "outputs": [
    {
     "name": "stdout",
     "output_type": "stream",
     "text": [
      "appnope==0.1.0\n",
      "backcall==0.2.0\n",
      "certifi==2020.6.20\n",
      "click==7.1.2\n",
      "colorama==0.4.4\n",
      "decorator==4.4.2\n",
      "Flask==1.1.2\n",
      "Flask-PyMongo==2.3.0\n",
      "ipykernel==5.3.1\n",
      "ipython==7.16.1\n",
      "ipython-genutils==0.2.0\n",
      "itsdangerous==1.1.0\n",
      "jedi==0.17.1\n",
      "Jinja2==2.11.2\n",
      "jupyter-client==6.1.5\n",
      "jupyter-core==4.6.3\n",
      "MarkupSafe==1.1.1\n",
      "parso==0.7.0\n",
      "pexpect==4.8.0\n",
      "pickleshare==0.7.5\n",
      "prompt-toolkit==3.0.5\n",
      "ptyprocess==0.6.0\n",
      "Pygments==2.6.1\n",
      "pymongo==3.11.0\n",
      "python-dateutil==2.8.1\n",
      "pywin32==228\n",
      "pyzmq==19.0.1\n",
      "six==1.15.0\n",
      "tornado==6.0.4\n",
      "traitlets==4.3.3\n",
      "wcwidth==0.2.5\n",
      "Werkzeug==1.0.1\n",
      "wincertstore==0.2\n"
     ]
    }
   ],
   "source": [
    "!pip freeze"
   ]
  },
  {
   "cell_type": "code",
   "execution_count": null,
   "metadata": {},
   "outputs": [],
   "source": [
    "# nuke data\n",
    "\n",
    "nuke_file = pd.read_csv(\"data/nuke_number.csv\")\n",
    "\n",
    "nuke_df = pd.DataFrame(nuke_file) \n",
    "\n",
    "nuke_df = nuke_df.rename(columns={\"Entity\":\"Country\"})\n",
    "\n",
    "\n",
    "nuke_df.head()"
   ]
  },
  {
   "cell_type": "code",
   "execution_count": null,
   "metadata": {},
   "outputs": [],
   "source": [
    "# GDP data\n",
    "\n",
    "gdp_file = pd.read_csv(\"data/GDP_Data_per_Country.csv\")\n",
    "\n",
    "gdp_df = pd.DataFrame(gdp_file)\n",
    "\n",
    "gdp_df = gdp_df.rename(columns={\"country\":\"Country\", \"series\":\"Series\", \"Date\":\"Year\"})\n",
    "\n",
    "gdp_df[\"Country\"] = gdp_df[\"Country\"].replace({\"Russian Federation\":\"Russia\"})\n",
    "\n",
    "gdp_df = gdp_df.drop(columns=[\"Series\", \"Unit\"])\n",
    "\n",
    "gdp_df.head()"
   ]
  },
  {
   "cell_type": "code",
   "execution_count": null,
   "metadata": {},
   "outputs": [],
   "source": [
    "# country_year\n",
    "nuke_df[\"Country_Year\"] = nuke_df[\"Country\"] + \" \" + nuke_df[\"Year\"].astype(str)\n",
    "\n",
    "gdp_df[\"Country_Year\"] = gdp_df[\"Country\"] + \" \" + gdp_df[\"Year\"].astype(str)\n"
   ]
  },
  {
   "cell_type": "code",
   "execution_count": null,
   "metadata": {},
   "outputs": [],
   "source": [
    "# merge_df\n",
    "\n",
    "merge_df = pd.merge(nuke_df, gdp_df, on='Country_Year', suffixes=(\"_nuke\",\"_gdp\"))\n",
    "\n",
    "merge_df.head()"
   ]
  },
  {
   "cell_type": "code",
   "execution_count": null,
   "metadata": {},
   "outputs": [],
   "source": [
    "# filtered df\n",
    "\n",
    "filtered_df = merge_df.drop(columns=['Country_gdp', 'Year_gdp']) \n",
    "filtered_df = filtered_df.rename(columns={\"Country_nuke\":\"Country\",\"Year_nuke\":\"Year\",\"Nuclear weapons inventory by country (FAS Nuclear Notebook)\":\"Quantity of Nuclear Weapons\", \"Value\":\"GDP (Current LCU)\"})\n",
    "\n",
    "filtered_df[\"GDP (Current LCU)\"] = filtered_df[\"GDP (Current LCU)\"].round(2)\n",
    "\n",
    "filtered_df.head()"
   ]
  },
  {
   "cell_type": "code",
   "execution_count": null,
   "metadata": {},
   "outputs": [],
   "source": [
    "filtered_df.to_csv(\"data/cleaned_nuke_csv\", index=True)"
   ]
  },
  {
   "cell_type": "markdown",
   "metadata": {},
   "source": [
    "# Database Connection"
   ]
  },
  {
   "cell_type": "code",
   "execution_count": null,
   "metadata": {},
   "outputs": [],
   "source": [
    "#Define connection link an instantiate client\n",
    "conn = 'mongodb://localhost:27017'\n",
    "client = pymongo.MongoClient(conn)\n",
    "\n",
    "#Define the 'chicagoFT' database in Mongo\n",
    "db = client.nukeDB\n",
    "\n",
    "#Declare the business collection\n",
    "by_country = db.by_country"
   ]
  },
  {
   "cell_type": "code",
   "execution_count": null,
   "metadata": {},
   "outputs": [],
   "source": [
    "#Instantiate for loop for populating business collection\n",
    "for index, row in filtered_df.iterrows():\n",
    "    #Populate post dictionary with information to be inserted into business collection\n",
    "    post = {\n",
    "        \"Country_Year\": str(row[\"Country_Year\"]),\n",
    "        \"Country\": str(row[\"Country\"]),\n",
    "        \"Code\": str(row[\"Code\"]),\n",
    "        \"Year\": int(row[\"Year\"]),\n",
    "        \"Quantity of Nuclear Weapons\": int(row[\"Quantity of Nuclear Weapons\"]),\n",
    "        \"GDP (Current LCU)\": float(row[\"GDP (Current LCU)\"])\n",
    "    }\n",
    "    #Insert data into business collection, post{} by post{}\n",
    "    by_country.insert_one(post)"
   ]
  },
  {
   "cell_type": "code",
   "execution_count": null,
   "metadata": {},
   "outputs": [],
   "source": [
    "#Define an interable list for our 'for loop' to loop through\n",
    "unique_zip = merge_df['zip_code'].unique()\n",
    "\n",
    "#Instantiate for loop for populating food-truck-by-zip collection\n",
    "for row in unique_zip:\n",
    "    #Filter dataframe to only contain zip codes equal to that which our 'for loop' is currently interating on\n",
    "    df = merge_df[merge_df['zip_code'] == row]\n",
    "    #Populate obj dictionary with information to be inserted into food-truck-by-zip collection. iloc[0] is used to display only 1 results, instead of a list of duplicate results\n",
    "    obj = {\n",
    "        'Zip-Code': str(df[\"zip_code\"].iloc[0]),\n",
    "        \"Agi\": str(df[\"agi\"].iloc[0]),\n",
    "        \"Total_income\": str(df[\"total_income\"].iloc[0]),\n",
    "        \"Number_of_individuals\": str(df[\"number_of_individuals\"].iloc[0]),\n",
    "        \"Number_of_dependents\": str(df[\"number_of_dependents\"].iloc[0]),\n",
    "        'Food_trucks' : []\n",
    "    }\n",
    "    #Define an interable list for our 'nested for loop' to loop through\n",
    "    unique_trucks = df['business_name'].unique()\n",
    "    \n",
    "    #This nested 'for loop' breaks down food trucks by zip code\n",
    "    for y in unique_trucks:\n",
    "        #Filter dataframe to only contain business names equal to that which our 'for loop' is currently interating on\n",
    "        fdf = df[df['business_name'] == y]\n",
    "        #This grabs all the food truck information that we want for our current given zip code\n",
    "        trucks = {\n",
    "            \"business_name\": str(fdf[\"business_name\"].iloc[0]),\n",
    "            \"app_type\": str(fdf[\"app_type\"].iloc[0]),\n",
    "            \"date_issued\": str(fdf[\"date_issued\"].iloc[0])\n",
    "        }\n",
    "        #Append food truck data onto Food_trucks list for give zip code\n",
    "        obj['Food_trucks'].append(trucks)\n",
    "    #Insert data into food-truck-by-zip collection, obj{} by obj{}\n",
    "    by_zip.insert_one(obj)"
   ]
  }
 ],
 "metadata": {
  "kernelspec": {
   "display_name": "Python 3",
   "language": "python",
   "name": "python3"
  },
  "language_info": {
   "codemirror_mode": {
    "name": "ipython",
    "version": 3
   },
   "file_extension": ".py",
   "mimetype": "text/x-python",
   "name": "python",
   "nbconvert_exporter": "python",
   "pygments_lexer": "ipython3",
   "version": "3.7.6"
  }
 },
 "nbformat": 4,
 "nbformat_minor": 4
}
