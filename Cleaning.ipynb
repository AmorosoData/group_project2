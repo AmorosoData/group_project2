{
 "cells": [
  {
   "cell_type": "code",
   "execution_count": 1,
   "metadata": {},
   "outputs": [
    {
     "ename": "ModuleNotFoundError",
     "evalue": "No module named 'pymongo'",
     "output_type": "error",
     "traceback": [
      "\u001b[1;31m---------------------------------------------------------------------------\u001b[0m",
      "\u001b[1;31mModuleNotFoundError\u001b[0m                       Traceback (most recent call last)",
      "\u001b[1;32m<ipython-input-1-98288a750e70>\u001b[0m in \u001b[0;36m<module>\u001b[1;34m\u001b[0m\n\u001b[0;32m      2\u001b[0m \u001b[1;32mimport\u001b[0m \u001b[0mpandas\u001b[0m \u001b[1;32mas\u001b[0m \u001b[0mpd\u001b[0m\u001b[1;33m\u001b[0m\u001b[1;33m\u001b[0m\u001b[0m\n\u001b[0;32m      3\u001b[0m \u001b[1;32mimport\u001b[0m \u001b[0mnumpy\u001b[0m \u001b[1;32mas\u001b[0m \u001b[0mnp\u001b[0m\u001b[1;33m\u001b[0m\u001b[1;33m\u001b[0m\u001b[0m\n\u001b[1;32m----> 4\u001b[1;33m \u001b[1;32mimport\u001b[0m \u001b[0mpymongo\u001b[0m\u001b[1;33m\u001b[0m\u001b[1;33m\u001b[0m\u001b[0m\n\u001b[0m\u001b[0;32m      5\u001b[0m \u001b[1;32mfrom\u001b[0m \u001b[0mpymongo\u001b[0m \u001b[1;32mimport\u001b[0m \u001b[0mMongoClient\u001b[0m\u001b[1;33m\u001b[0m\u001b[1;33m\u001b[0m\u001b[0m\n",
      "\u001b[1;31mModuleNotFoundError\u001b[0m: No module named 'pymongo'"
     ]
    }
   ],
   "source": [
    "# import dependencies\n",
    "import pandas as pd\n",
    "import numpy as np\n",
    "import pymongo\n",
    "from pymongo import MongoClient"
   ]
  },
  {
   "cell_type": "code",
   "execution_count": null,
   "metadata": {},
   "outputs": [],
   "source": [
    "# nuke data\n",
    "\n",
    "nuke_file = pd.read_csv(\"data/nuke_number.csv\")\n",
    "\n",
    "nuke_df = pd.DataFrame(nuke_file) \n",
    "\n",
    "nuke_df = nuke_df.rename(columns={\"Entity\":\"Country\"})\n",
    "\n",
    "\n",
    "nuke_df.head()"
   ]
  },
  {
   "cell_type": "code",
   "execution_count": null,
   "metadata": {},
   "outputs": [],
   "source": [
    "# GDP data\n",
    "\n",
    "gdp_file = pd.read_csv(\"data/GDP_Data_per_Country.csv\")\n",
    "\n",
    "gdp_df = pd.DataFrame(gdp_file)\n",
    "\n",
    "gdp_df = gdp_df.rename(columns={\"country\":\"Country\", \"series\":\"Series\", \"Date\":\"Year\"})\n",
    "\n",
    "gdp_df[\"Country\"] = gdp_df[\"Country\"].replace({\"Russian Federation\":\"Russia\"})\n",
    "\n",
    "gdp_df = gdp_df.drop(columns=[\"Series\", \"Unit\"])\n",
    "\n",
    "gdp_df.head()"
   ]
  },
  {
   "cell_type": "code",
   "execution_count": null,
   "metadata": {},
   "outputs": [],
   "source": [
    "# country_year\n",
    "nuke_df[\"Country_Year\"] = nuke_df[\"Country\"] + \" \" + nuke_df[\"Year\"].astype(str)\n",
    "\n",
    "gdp_df[\"Country_Year\"] = gdp_df[\"Country\"] + \" \" + gdp_df[\"Year\"].astype(str)"
   ]
  },
  {
   "cell_type": "code",
   "execution_count": null,
   "metadata": {},
   "outputs": [],
   "source": [
    "# merge_df\n",
    "\n",
    "merge_df = pd.merge(nuke_df, gdp_df, on='Country_Year', suffixes=(\"_nuke\",\"_gdp\"))\n",
    "\n",
    "merge_df.head()"
   ]
  },
  {
   "cell_type": "code",
   "execution_count": null,
   "metadata": {},
   "outputs": [],
   "source": [
    "# filtered df\n",
    "\n",
    "filtered_df = merge_df.drop(columns=['Country_gdp', 'Year_gdp']) \n",
    "filtered_df = filtered_df.rename(columns={\"Country_nuke\":\"Country\",\"Year_nuke\":\"Year\",\"Nuclear weapons inventory by country (FAS Nuclear Notebook)\":\"Quantity of Nuclear Weapons\", \"Value\":\"GDP (Current LCU)\"})\n",
    "\n",
    "filtered_df[\"GDP (Current LCU)\"] = filtered_df[\"GDP (Current LCU)\"].round(2)\n",
    "\n",
    "filtered_df.head()"
   ]
  },
  {
   "cell_type": "code",
   "execution_count": null,
   "metadata": {},
   "outputs": [],
   "source": [
    "filtered_df.to_csv(\"data/cleaned_nuke.csv\", index=True)"
   ]
  }
 ],
 "metadata": {
  "kernelspec": {
   "display_name": "project_env",
   "language": "python",
   "name": "project_env"
  },
  "language_info": {
   "codemirror_mode": {
    "name": "ipython",
    "version": 3
   },
   "file_extension": ".py",
   "mimetype": "text/x-python",
   "name": "python",
   "nbconvert_exporter": "python",
   "pygments_lexer": "ipython3",
   "version": "3.6.12"
  }
 },
 "nbformat": 4,
 "nbformat_minor": 4
}
